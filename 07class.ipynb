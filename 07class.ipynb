{
 "cells": [
  {
   "cell_type": "markdown",
   "metadata": {},
   "source": [
    "Dictionary,\n",
    "key : value [\"name\":\"sudais\"]\n",
    "like javascript objects"
   ]
  },
  {
   "cell_type": "code",
   "execution_count": 17,
   "metadata": {},
   "outputs": [
    {
     "name": "stdout",
     "output_type": "stream",
     "text": [
      "{'name': 'Sudais', 'fname': 'Shakeel'}\n"
     ]
    },
    {
     "data": {
      "text/plain": [
       "['clear',\n",
       " 'copy',\n",
       " 'fromkeys',\n",
       " 'get',\n",
       " 'items',\n",
       " 'keys',\n",
       " 'pop',\n",
       " 'popitem',\n",
       " 'setdefault',\n",
       " 'update',\n",
       " 'values']"
      ]
     },
     "execution_count": 17,
     "metadata": {},
     "output_type": "execute_result"
    }
   ],
   "source": [
    "from typing import Dict\n",
    "\n",
    "data : Dict[str,str] = {\n",
    "    \"name\":\"Sudais\",\n",
    "    \"fname\":\"Shakeel\",\n",
    "}\n",
    "\n",
    "print(data)\n",
    "\n",
    "[i for i in dir(data) if \"__\" not in i]"
   ]
  },
  {
   "cell_type": "code",
   "execution_count": 2,
   "metadata": {},
   "outputs": [
    {
     "name": "stdout",
     "output_type": "stream",
     "text": [
      "{0: 'Shakeel', 'name': 'Ansari', 'obj': {1: 'A', 2: 'B'}}\n",
      "Shakeel B\n",
      "dict_keys(['name', 0, 'obj'])\n",
      "dict_values(['Ansari', 'Shakeel', {1: 'A', 2: 'B'}])\n",
      "dict_items([('name', 'Ansari'), (0, 'Shakeel'), ('obj', {1: 'A', 2: 'B'})])\n",
      "Ansari\n",
      "key:  name  value:  Ansari\n",
      "key:  0  value:  Shakeel\n",
      "key:  obj  value:  {1: 'A', 2: 'B'}\n"
     ]
    }
   ],
   "source": [
    "from typing import Dict,Union,Optional\n",
    "import pprint\n",
    "\n",
    "Key = Union[int, str]\n",
    "Value = Union[int, str, list, float, tuple, list, dict, set]\n",
    "\n",
    "data : Dict[Key,Value] = {\n",
    "    \"name\":\"Sudais\",\n",
    "    0:\"Shakeel\",\n",
    "    \"obj\":{1:\"A\",2:\"B\"}\n",
    "}\n",
    "data[\"name\"] = \"Ansari\"\n",
    "\n",
    "pprint.pprint(data)\n",
    "print(data[0],data[\"obj\"][2])\n",
    "print(data.keys())\n",
    "print(data.values())\n",
    "print(data.items())\n",
    "print(data.get('pakistan','NA'))\n",
    "\n",
    "for k,v in data.items():\n",
    "    print(\"key: \",k,\" value: \",v)\n",
    "\n"
   ]
  },
  {
   "cell_type": "code",
   "execution_count": 7,
   "metadata": {},
   "outputs": [
    {
     "name": "stdout",
     "output_type": "stream",
     "text": [
      "3 1\n"
     ]
    }
   ],
   "source": [
    "a : int = 1\n",
    "b : int = 3\n",
    "\n",
    "a,b = b,a\n",
    "\n",
    "print(a,b)"
   ]
  }
 ],
 "metadata": {
  "kernelspec": {
   "display_name": "base",
   "language": "python",
   "name": "python3"
  },
  "language_info": {
   "codemirror_mode": {
    "name": "ipython",
    "version": 3
   },
   "file_extension": ".py",
   "mimetype": "text/x-python",
   "name": "python",
   "nbconvert_exporter": "python",
   "pygments_lexer": "ipython3",
   "version": "3.11.4"
  }
 },
 "nbformat": 4,
 "nbformat_minor": 2
}
