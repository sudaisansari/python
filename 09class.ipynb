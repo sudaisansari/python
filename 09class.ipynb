{
 "cells": [
  {
   "cell_type": "markdown",
   "metadata": {},
   "source": [
    "# Loop and Input from user\n",
    "while, for, controls(break, continue, pass),\n",
    "Input with input function,\n",
    "Input with Console\n",
    "\n",
    "# Loop working on Iterativ data types\n",
    "List, dictionary, Tuple, String"
   ]
  },
  {
   "cell_type": "code",
   "execution_count": null,
   "metadata": {
    "vscode": {
     "languageId": "plaintext"
    }
   },
   "outputs": [],
   "source": []
  }
 ],
 "metadata": {
  "language_info": {
   "name": "python"
  }
 },
 "nbformat": 4,
 "nbformat_minor": 2
}
