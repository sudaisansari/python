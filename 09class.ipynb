{
 "cells": [
  {
   "cell_type": "markdown",
   "metadata": {},
   "source": [
    "# Loop and Input from user\n",
    "while, for, controls(break, continue, pass),\n",
    "Input with input function,\n",
    "Input with Console\n",
    "\n",
    "# Loop working on Iterativ data types\n",
    "List, dictionary, Tuple, String"
   ]
  },
  {
   "cell_type": "code",
   "execution_count": 9,
   "metadata": {},
   "outputs": [
    {
     "name": "stdout",
     "output_type": "stream",
     "text": [
      "P\n",
      "a\n",
      "k\n",
      "i\n",
      "s\n",
      "t\n",
      "a\n",
      "n\n",
      "4\n",
      "6\n",
      "7\n",
      "3\n",
      "Key name value Sudais\n",
      "Key fName value Shakeel\n",
      "1\n",
      "34\n",
      "3\n",
      "4\n",
      "5\n"
     ]
    }
   ],
   "source": [
    "text : str = \"Pakistan\"\n",
    "for txt in text:\n",
    "    print(txt)\n",
    "\n",
    "text2 : tuple = (4,6,7,3,)\n",
    "for txt2 in text2:\n",
    "    print(txt2)\n",
    "\n",
    "diction : dict[str,str] = {\"name\":\"Sudais\",\"fName\":\"Shakeel\"}\n",
    "for dic in diction:\n",
    "    print(f\"Key {dic} value {diction[dic]}\")\n",
    "\n",
    "text3 : list[set[int]] = list({1,34,3,3,5,4})\n",
    "for txt3 in text3:\n",
    "    print(txt3)"
   ]
  },
  {
   "cell_type": "code",
   "execution_count": 11,
   "metadata": {},
   "outputs": [
    {
     "name": "stdout",
     "output_type": "stream",
     "text": [
      "[('a', 'x', 4), ('b', 'y', 5), ('c', 'z', 6)]\n",
      "name a, fname x, age 4\n",
      "name b, fname y, age 5\n",
      "name c, fname z, age 6\n"
     ]
    }
   ],
   "source": [
    "names : list[str] = ['a','b','c']\n",
    "fnames : list[str] = ['x','y','z']\n",
    "age : list[int] = [4,5,6]\n",
    "\n",
    "print(list(zip(names,fnames,age)))\n",
    "\n",
    "for n,fn,ag in zip(names,fnames,age):\n",
    "    print(f\"name {n}, fname {fn}, age {ag}\")"
   ]
  },
  {
   "cell_type": "code",
   "execution_count": 12,
   "metadata": {},
   "outputs": [
    {
     "name": "stdout",
     "output_type": "stream",
     "text": [
      "Element at position 0 is: 100\n",
      "Element at position 1 is: 200\n",
      "Element at position 2 is: 300\n"
     ]
    }
   ],
   "source": [
    "l : list[int] = [100,200,300]\n",
    "index : int = 0\n",
    "\n",
    "while index < len(l):\n",
    "    print(f\"Element at position {index} is: {l[index]}\")\n",
    "    index += 1"
   ]
  },
  {
   "cell_type": "code",
   "execution_count": 3,
   "metadata": {},
   "outputs": [
    {
     "name": "stdout",
     "output_type": "stream",
     "text": [
      "Enter name and education & -1 to exit program\n"
     ]
    },
    {
     "data": {
      "text/plain": [
       "[]"
      ]
     },
     "metadata": {},
     "output_type": "display_data"
    }
   ],
   "source": [
    "data : list[dict[str,str]] = []\n",
    "flag : bool = True\n",
    "\n",
    "while flag:\n",
    "    print(\"Enter name and education & -1 to exit program\")\n",
    "    name : str = input(\"Enter name\")\n",
    "    education : str = input(\"Enter education\")\n",
    "\n",
    "    if name in ['exit'] or education in ['exit']:\n",
    "        flag = False\n",
    "        break\n",
    "    data.append({\"name\":name,\n",
    "                \"education\":education})\n",
    "\n",
    "display(data)"
   ]
  },
  {
   "cell_type": "markdown",
   "metadata": {},
   "source": [
    "# sys.argv input command"
   ]
  },
  {
   "cell_type": "code",
   "execution_count": null,
   "metadata": {},
   "outputs": [],
   "source": [
    "import sys\n",
    "\n",
    "print(\"line1\")\n",
    "print(\"line2\")\n",
    "\n",
    "print(type(sys.argv))\n",
    "\n",
    "if sys.argv[1] == 'g':\n",
    "    print(\"Install package globally\")\n",
    "    \n",
    "print(sys.argv)"
   ]
  }
 ],
 "metadata": {
  "kernelspec": {
   "display_name": "base",
   "language": "python",
   "name": "python3"
  },
  "language_info": {
   "codemirror_mode": {
    "name": "ipython",
    "version": 3
   },
   "file_extension": ".py",
   "mimetype": "text/x-python",
   "name": "python",
   "nbconvert_exporter": "python",
   "pygments_lexer": "ipython3",
   "version": "3.11.4"
  }
 },
 "nbformat": 4,
 "nbformat_minor": 2
}
