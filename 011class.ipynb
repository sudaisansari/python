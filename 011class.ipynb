{
 "cells": [
  {
   "cell_type": "code",
   "execution_count": 9,
   "metadata": {},
   "outputs": [
    {
     "name": "stdout",
     "output_type": "stream",
     "text": [
      "4 140711780782984\n",
      "The value of num is 9 140711780783144\n",
      "4 140711780782984\n"
     ]
    }
   ],
   "source": [
    "a : int = 4\n",
    "\n",
    "def abc(num : int)->None:\n",
    "    print(num, id(num))\n",
    "    num = 9 # copy\n",
    "    print(\"The value of num is\", num, id(num))\n",
    "\n",
    "abc(a)# Pass by value immutable\n",
    "\n",
    "print(a,id(a)) # original variable value"
   ]
  },
  {
   "cell_type": "code",
   "execution_count": 8,
   "metadata": {},
   "outputs": [
    {
     "name": "stdout",
     "output_type": "stream",
     "text": [
      "[3, 4, 65, 3, 3] 2749668336128\n",
      "The value of num is [3, 4, 65, 3, 3, 200] 2749668336128\n",
      "[3, 4, 65, 3, 3, 200] 2749668336128\n"
     ]
    }
   ],
   "source": [
    "a : list[int] = [3,4,65,3,3]\n",
    "\n",
    "def abc(num : list[int])->None:\n",
    "    print(num, id(num))\n",
    "    num.append(200) #added a value\n",
    "    print(\"The value of num is\", num, id(num))\n",
    "\n",
    "abc(a)# Pass by refference mutable\n",
    "\n",
    "print(a, id(a))"
   ]
  },
  {
   "cell_type": "markdown",
   "metadata": {},
   "source": [
    "# Handle Run Time Error\n",
    "\n",
    "\n",
    "```\n",
    "try:\n",
    "    logic\n",
    "except (Error_class1, Error_class2):\n",
    "    if error occur then run this \n",
    "else:\n",
    "    if error not occur\n",
    "finally:\n",
    "    always run\n",
    "```"
   ]
  },
  {
   "cell_type": "code",
   "execution_count": 10,
   "metadata": {},
   "outputs": [
    {
     "name": "stdout",
     "output_type": "stream",
     "text": [
      "logic 1\n",
      "logic 2\n",
      "abc\n",
      "Zero Division Error\n",
      "Done\n",
      "logic 3\n",
      "logic 4\n"
     ]
    }
   ],
   "source": [
    "print(\"logic 1\")\n",
    "print(\"logic 2\")\n",
    "\n",
    "try:\n",
    "    print(\"abc\")\n",
    "    print(5/0)# error\n",
    "    print(xyz)\n",
    "except(ZeroDivisionError):\n",
    "    print(\"Zero Division Error\")\n",
    "finally:\n",
    "    print(\"Done\")\n",
    "\n",
    "print(\"logic 3\")\n",
    "print(\"logic 4\")"
   ]
  }
 ],
 "metadata": {
  "kernelspec": {
   "display_name": "py12",
   "language": "python",
   "name": "python3"
  },
  "language_info": {
   "codemirror_mode": {
    "name": "ipython",
    "version": 3
   },
   "file_extension": ".py",
   "mimetype": "text/x-python",
   "name": "python",
   "nbconvert_exporter": "python",
   "pygments_lexer": "ipython3",
   "version": "3.11.4"
  }
 },
 "nbformat": 4,
 "nbformat_minor": 2
}
