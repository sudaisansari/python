{
 "cells": [
  {
   "cell_type": "markdown",
   "metadata": {},
   "source": [
    "For Loop\n"
   ]
  },
  {
   "cell_type": "code",
   "execution_count": 15,
   "metadata": {},
   "outputs": [
    {
     "name": "stdout",
     "output_type": "stream",
     "text": [
      "num\n",
      "1\n",
      "num\n",
      "2\n",
      "num\n",
      "3\n",
      "num\n",
      "4\n",
      "4\n",
      "Done\n"
     ]
    }
   ],
   "source": [
    "List : list[str] = [\"1\",\"2\",\"3\",\"4\"]\n",
    "\n",
    "for names in List:\n",
    "    print(\"num\")\n",
    "    print(names)\n",
    "\n",
    "# last value stored in a loop variable names can be access out of the block scoped\n",
    "print(\"Out of loop \".names) \n",
    "\n",
    "print(\"Done\")"
   ]
  },
  {
   "cell_type": "code",
   "execution_count": 14,
   "metadata": {},
   "outputs": [
    {
     "name": "stdout",
     "output_type": "stream",
     "text": [
      "Valid user 'Sirqasim , 123'\n"
     ]
    }
   ],
   "source": [
    "data_base : list[tuple[str,str]] = [(\"sirqasim\",\"123\"),(\"sirzia\",\"345\"),(\"sirfaizan\",\"567\")]\n",
    "\n",
    "input_username = input(\"Enter Username\")\n",
    "input_password = input(\"Enter Password\")\n",
    "\n",
    "for row in data_base:\n",
    "    user, password = row\n",
    "    if input_username == user and input_password == password:\n",
    "         print(f\"Valid user '{user.title()} , {password}'\")\n",
    "         break\n",
    "    \n",
    "else: # this else is of for loop not of if condition\n",
    "    print(\"Not found\")\n",
    "\n",
    "\n",
    "magician : list[str] = [\"alice\",\"david\",\"bob\"]\n",
    "\n",
    "for i, name in enumerate(magician):\n",
    "    print(f\"{i+1}. {name}\")"
   ]
  },
  {
   "cell_type": "markdown",
   "metadata": {},
   "source": [
    "Numbers with Loop\n",
    "> range(start,end,step)"
   ]
  },
  {
   "cell_type": "code",
   "execution_count": 25,
   "metadata": {},
   "outputs": [
    {
     "name": "stdout",
     "output_type": "stream",
     "text": [
      "2\n",
      "4\n",
      "6\n",
      "8\n",
      "10\n",
      "12\n",
      "14\n",
      "16\n",
      "18\n",
      "20\n"
     ]
    }
   ],
   "source": [
    "for i in range(2,21,2):\n",
    "    print(i)"
   ]
  },
  {
   "cell_type": "markdown",
   "metadata": {},
   "source": [
    "List Comprehensive"
   ]
  },
  {
   "cell_type": "code",
   "execution_count": 30,
   "metadata": {},
   "outputs": [
    {
     "name": "stdout",
     "output_type": "stream",
     "text": [
      "1\n",
      "4\n",
      "9\n",
      "16\n",
      "25\n",
      "36\n",
      "49\n",
      "64\n",
      "81\n"
     ]
    },
    {
     "data": {
      "text/plain": [
       "[1, 4, 9, 16, 25, 36, 49, 64, 81]"
      ]
     },
     "execution_count": 30,
     "metadata": {},
     "output_type": "execute_result"
    }
   ],
   "source": [
    "for x in range(1,10,1):\n",
    "    print(x**2)\n",
    "    \n",
    "# Now with comprehnsive approach\n",
    "[x**2 for x in range(1,10,1)] # body of for loop shift before for loop and inside [] braces"
   ]
  },
  {
   "cell_type": "markdown",
   "metadata": {},
   "source": [
    "Tuple \n",
    " (immutable update nhi hoga)"
   ]
  },
  {
   "cell_type": "code",
   "execution_count": null,
   "metadata": {},
   "outputs": [],
   "source": [
    "digits : tuple[str] = (2,5,6)\n"
   ]
  }
 ],
 "metadata": {
  "kernelspec": {
   "display_name": "base",
   "language": "python",
   "name": "python3"
  },
  "language_info": {
   "codemirror_mode": {
    "name": "ipython",
    "version": 3
   },
   "file_extension": ".py",
   "mimetype": "text/x-python",
   "name": "python",
   "nbconvert_exporter": "python",
   "pygments_lexer": "ipython3",
   "version": "3.11.4"
  }
 },
 "nbformat": 4,
 "nbformat_minor": 2
}
