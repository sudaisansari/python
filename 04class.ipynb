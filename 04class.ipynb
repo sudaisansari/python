{
 "cells": [
  {
   "cell_type": "markdown",
   "metadata": {},
   "source": [
    "List \n",
    " *dynamic length\n",
    " *hetrogenous data type(Multiple types)\n",
    " *index\n",
    "    positive 0 to n-1\n",
    "    negative -1 to length"
   ]
  },
  {
   "cell_type": "code",
   "execution_count": null,
   "metadata": {},
   "outputs": [
    {
     "name": "stdout",
     "output_type": "stream",
     "text": [
      "Zia Zia\n"
     ]
    }
   ],
   "source": [
    "# ->        0      1      2\n",
    "names = [\"Qasim\",\"Zia\",\"Inam\"]\n",
    "# <-        -3    -2     -1\n",
    "print(names[1], names[-2])"
   ]
  },
  {
   "cell_type": "markdown",
   "metadata": {},
   "source": [
    "Slicing\n",
    "slicing goes fro left to right"
   ]
  },
  {
   "cell_type": "code",
   "execution_count": 10,
   "metadata": {},
   "outputs": [
    {
     "name": "stdout",
     "output_type": "stream",
     "text": [
      "['b', 'c']\n",
      "['a', 'c', 'e', 'g']\n",
      "['b', 'c', 'd']\n",
      "['g', 'f', 'e']\n"
     ]
    }
   ],
   "source": [
    "#                          0   1   2   3   4   5   6   7\n",
    "characters : list[str] = ['a','b','c','d','e','f','g','h'] \n",
    "#                         -8   -7   -6  -5  -4  -3  -2  -1\n",
    "print(characters[1:3])\n",
    "print(characters[0:8:2])\n",
    "print(characters[1:-4])\n",
    "print(characters[-2:-5:-1])"
   ]
  },
  {
   "cell_type": "markdown",
   "metadata": {},
   "source": [
    "List methods\n"
   ]
  },
  {
   "cell_type": "code",
   "execution_count": 11,
   "metadata": {},
   "outputs": [
    {
     "data": {
      "text/plain": [
       "['append',\n",
       " 'clear',\n",
       " 'copy',\n",
       " 'count',\n",
       " 'extend',\n",
       " 'index',\n",
       " 'insert',\n",
       " 'pop',\n",
       " 'remove',\n",
       " 'reverse',\n",
       " 'sort']"
      ]
     },
     "execution_count": 11,
     "metadata": {},
     "output_type": "execute_result"
    }
   ],
   "source": [
    "[i for i in dir(list) if \"__\" not in i]"
   ]
  },
  {
   "cell_type": "markdown",
   "metadata": {},
   "source": [
    "To take help from python of any object or method\n",
    "\n",
    "help(obj)\n",
    "??obj\n",
    "?obj\n",
    "obj?\n",
    "obj??"
   ]
  },
  {
   "cell_type": "code",
   "execution_count": 12,
   "metadata": {},
   "outputs": [
    {
     "name": "stdout",
     "output_type": "stream",
     "text": [
      "Help on built-in function print in module builtins:\n",
      "\n",
      "print(*args, sep=' ', end='\\n', file=None, flush=False)\n",
      "    Prints the values to a stream, or to sys.stdout by default.\n",
      "    \n",
      "    sep\n",
      "      string inserted between values, default a space.\n",
      "    end\n",
      "      string appended after the last value, default a newline.\n",
      "    file\n",
      "      a file-like object (stream); defaults to the current sys.stdout.\n",
      "    flush\n",
      "      whether to forcibly flush the stream.\n",
      "\n"
     ]
    }
   ],
   "source": [
    "help(print)"
   ]
  },
  {
   "cell_type": "code",
   "execution_count": 21,
   "metadata": {},
   "outputs": [
    {
     "name": "stdout",
     "output_type": "stream",
     "text": [
      "['bat', 'ball', 'wicket']\n",
      "['bat', 'wicket']\n",
      "ball\n",
      "['bat', 'wicket', 'sudais']\n",
      "['bat', 'wicket', 'ansari', 'sudais']\n"
     ]
    }
   ],
   "source": [
    "kit : list[str] = [\"bat\",\"ball\",\"wicket\"]\n",
    "print(kit)\n",
    "a : str = kit.pop(1)\n",
    "print(kit) # ['bat', 'ball']\n",
    "print(a)\n",
    "\n",
    "kit.append(\"sudais\")\n",
    "print(kit)\n",
    "kit.insert(2,\"ansari\")\n",
    "print(kit)\n",
    "\n",
    "bag = kit.copy()"
   ]
  },
  {
   "cell_type": "markdown",
   "metadata": {},
   "source": [
    "Count and Extend\n"
   ]
  },
  {
   "cell_type": "code",
   "execution_count": 25,
   "metadata": {},
   "outputs": [
    {
     "name": "stdout",
     "output_type": "stream",
     "text": [
      "['Sir Zia', 'Sir Qasim', 'Hamzah', 'Okasha']\n",
      "['Sir Zia', 'Sir Qasim', 'Hamzah', 'Okasha', ['Hamzah', 'Okasha']]\n"
     ]
    }
   ],
   "source": [
    "num : int = [2,354,5,5,6,3,3,2,]\n",
    "num.count(3)\n",
    "\n",
    "faculty : str = [\"Sir Zia\", \"Sir Qasim\"]\n",
    "new_faculty : str = [\"Hamzah\",\"Okasha\"] \n",
    "\n",
    "faculty.extend(new_faculty)\n",
    "print(faculty)\n",
    "faculty.append(new_faculty)\n",
    "print(faculty)\n",
    "\n"
   ]
  }
 ],
 "metadata": {
  "kernelspec": {
   "display_name": "base",
   "language": "python",
   "name": "python3"
  },
  "language_info": {
   "codemirror_mode": {
    "name": "ipython",
    "version": 3
   },
   "file_extension": ".py",
   "mimetype": "text/x-python",
   "name": "python",
   "nbconvert_exporter": "python",
   "pygments_lexer": "ipython3",
   "version": "3.11.4"
  }
 },
 "nbformat": 4,
 "nbformat_minor": 2
}
