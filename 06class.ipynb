{
 "cells": [
  {
   "cell_type": "markdown",
   "metadata": {},
   "source": [
    "If,\n",
    "If else,\n",
    "IF elif else\n",
    "\n",
    "if logic:\n",
    "    body\n",
    "\n",
    "Operators\n",
    "==, !=, <, >, <=, >=\n",
    "and or not"
   ]
  },
  {
   "cell_type": "code",
   "execution_count": 3,
   "metadata": {},
   "outputs": [
    {
     "name": "stdout",
     "output_type": "stream",
     "text": [
      "pakistan\n"
     ]
    }
   ],
   "source": [
    "if True:\n",
    "    print(\"pakistan\")\n",
    "else:\n",
    "    print(\"England\")"
   ]
  },
  {
   "cell_type": "code",
   "execution_count": 5,
   "metadata": {},
   "outputs": [
    {
     "name": "stdout",
     "output_type": "stream",
     "text": [
      "elif 1\n"
     ]
    }
   ],
   "source": [
    "if False:\n",
    "    print(\"if block\")\n",
    "elif True:\n",
    "    print(\"elif 1\")\n",
    "elif False:\n",
    "    print(\"elif 2\")\n",
    "elif True:\n",
    "    print(\"elif 3\")\n",
    "else:\n",
    "    print(\"else block\")"
   ]
  },
  {
   "cell_type": "code",
   "execution_count": 7,
   "metadata": {},
   "outputs": [
    {
     "name": "stdout",
     "output_type": "stream",
     "text": [
      "Percentage 78 and Grade is B\n"
     ]
    }
   ],
   "source": [
    "per : int = int(input(\"Enter percentage\"))\n",
    "grade : str = None\n",
    "\n",
    "if per >= 80:\n",
    "    grade = \"A\"\n",
    "elif per >= 70:\n",
    "    grade = \"B\"\n",
    "elif per >= 60:\n",
    "    grade = \"C\"\n",
    "elif per >= 50:\n",
    "    grade = \"D\"\n",
    "elif per >= 40:\n",
    "    grade = \"E\"\n",
    "else:\n",
    "    print(\"F\")\n",
    "\n",
    "print(f\"Percentage {per} and Grade is {grade}\")"
   ]
  },
  {
   "cell_type": "code",
   "execution_count": 13,
   "metadata": {},
   "outputs": [
    {
     "name": "stdout",
     "output_type": "stream",
     "text": [
      "['BMW', 'Mercedez', 'Audi', 'Bugatti']\n",
      "Bmw\n",
      "MERCEDEZ\n",
      "Audi\n",
      "Bugatti\n"
     ]
    }
   ],
   "source": [
    "cars : list[str] = [\"bmw\",\"mercedez\",\"audi\",\"bugatti\"]\n",
    "\n",
    "# list comprehensive way\n",
    "print([i.upper() if i == \"bmw\" else i.title() for i in cars])\n",
    "\n",
    "# normal way\n",
    "for i in cars:\n",
    "    if i == \"mercedez\":\n",
    "        print(i.upper())\n",
    "    else:\n",
    "        print(i.title())\n"
   ]
  },
  {
   "cell_type": "code",
   "execution_count": 18,
   "metadata": {},
   "outputs": [
    {
     "name": "stdout",
     "output_type": "stream",
     "text": [
      "d\n"
     ]
    }
   ],
   "source": [
    "banned_users : list[str] = [\"A\",\"B\",\"C\"]\n",
    "user : str = \"D\"\n",
    "user2 : str = \"T\"\n",
    "\n",
    "if user not in banned_users:\n",
    "    print(user.lower())\n",
    "elif user2 in banned_users:\n",
    "    print(user2.upper())"
   ]
  },
  {
   "cell_type": "code",
   "execution_count": 27,
   "metadata": {},
   "outputs": [
    {
     "name": "stdout",
     "output_type": "stream",
     "text": [
      "['mashroom']\n",
      "Adding mashroom\n",
      "Pizza Ready with MASHROOM Topping\n"
     ]
    }
   ],
   "source": [
    "available_toppings : list[str] = [\"mashroom\",\"oliver\",\"green pepper\"]\n",
    "requested_toppings : list[str] = input(\"Enter toppings , separated\").split(\",\")\n",
    "print(requested_toppings)\n",
    "\n",
    "for req_topping in requested_toppings:\n",
    "    if req_topping in available_toppings:\n",
    "        print(f\"Adding {req_topping}\")\n",
    "    else:\n",
    "        print(f\"Not Available {req_topping}\")\n",
    "print(f\"Pizza Ready with {req_topping.upper()} Topping\")"
   ]
  }
 ],
 "metadata": {
  "kernelspec": {
   "display_name": "base",
   "language": "python",
   "name": "python3"
  },
  "language_info": {
   "codemirror_mode": {
    "name": "ipython",
    "version": 3
   },
   "file_extension": ".py",
   "mimetype": "text/x-python",
   "name": "python",
   "nbconvert_exporter": "python",
   "pygments_lexer": "ipython3",
   "version": "3.11.4"
  }
 },
 "nbformat": 4,
 "nbformat_minor": 2
}
