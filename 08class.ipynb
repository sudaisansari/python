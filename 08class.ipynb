{
 "cells": [
  {
   "cell_type": "code",
   "execution_count": 7,
   "metadata": {},
   "outputs": [
    {
     "name": "stdout",
     "output_type": "stream",
     "text": [
      "['clear', 'copy', 'fromkeys', 'get', 'items', 'keys', 'pop', 'popitem', 'setdefault', 'update', 'values']\n",
      "('subName', 'Ansari')\n",
      "karachi\n",
      "{'name': 'Sudais', 0: 'Shakeel', 'obj': {1: 'A', 2: 'B'}, 'city': 'karachi', 'age': 20, 'height': 5.7}\n"
     ]
    }
   ],
   "source": [
    "from typing import Dict,Union,Optional\n",
    "import pprint\n",
    "\n",
    "Key = Union[int, str]\n",
    "Value = Union[int, str, list, float, tuple, list, dict, set]\n",
    "\n",
    "data : Dict[Key,Value] = {\n",
    "    \"name\":\"Sudais\",\n",
    "    0:\"Shakeel\",\n",
    "    \"obj\":{1:\"A\",2:\"B\"},\n",
    "    \"subName\":\"Ansari\"\n",
    "}\n",
    "\n",
    "\n",
    "\n",
    "methods : list[str] = [m for m in dir(data) if \"__\" not in m]\n",
    "print(methods)\n",
    "\n",
    "print(data.popitem())\n",
    "\n",
    "print(data.setdefault(\"city\",\"karachi\"))\n",
    "\n",
    "data1 : Dict[Key,Value] = {\n",
    "    \"age\" : 20,\n",
    "    \"height\" : 5.7\n",
    "}\n",
    "data.update(data1)\n",
    "print(data)\n",
    "\n"
   ]
  },
  {
   "cell_type": "code",
   "execution_count": 11,
   "metadata": {},
   "outputs": [
    {
     "data": {
      "text/html": [
       "<div>\n",
       "<style scoped>\n",
       "    .dataframe tbody tr th:only-of-type {\n",
       "        vertical-align: middle;\n",
       "    }\n",
       "\n",
       "    .dataframe tbody tr th {\n",
       "        vertical-align: top;\n",
       "    }\n",
       "\n",
       "    .dataframe thead th {\n",
       "        text-align: right;\n",
       "    }\n",
       "</style>\n",
       "<table border=\"1\" class=\"dataframe\">\n",
       "  <thead>\n",
       "    <tr style=\"text-align: right;\">\n",
       "      <th></th>\n",
       "      <th>Names</th>\n",
       "      <th>Age</th>\n",
       "    </tr>\n",
       "  </thead>\n",
       "  <tbody>\n",
       "    <tr>\n",
       "      <th>0</th>\n",
       "      <td>Sudais</td>\n",
       "      <td>20</td>\n",
       "    </tr>\n",
       "    <tr>\n",
       "      <th>1</th>\n",
       "      <td>Saad</td>\n",
       "      <td>20</td>\n",
       "    </tr>\n",
       "    <tr>\n",
       "      <th>2</th>\n",
       "      <td>Saad</td>\n",
       "      <td>22</td>\n",
       "    </tr>\n",
       "    <tr>\n",
       "      <th>3</th>\n",
       "      <td>Anas</td>\n",
       "      <td>19</td>\n",
       "    </tr>\n",
       "    <tr>\n",
       "      <th>4</th>\n",
       "      <td>Usman</td>\n",
       "      <td>20</td>\n",
       "    </tr>\n",
       "    <tr>\n",
       "      <th>5</th>\n",
       "      <td>Sohaib</td>\n",
       "      <td>20</td>\n",
       "    </tr>\n",
       "    <tr>\n",
       "      <th>6</th>\n",
       "      <td>Huzaifa</td>\n",
       "      <td>20</td>\n",
       "    </tr>\n",
       "  </tbody>\n",
       "</table>\n",
       "</div>"
      ],
      "text/plain": [
       "     Names  Age\n",
       "0   Sudais   20\n",
       "1     Saad   20\n",
       "2     Saad   22\n",
       "3     Anas   19\n",
       "4    Usman   20\n",
       "5   Sohaib   20\n",
       "6  Huzaifa   20"
      ]
     },
     "execution_count": 11,
     "metadata": {},
     "output_type": "execute_result"
    }
   ],
   "source": [
    "import pandas as pd\n",
    "from typing import Any\n",
    "\n",
    "students_data : Dict[str,list[Any]] = {\n",
    "    \"Names\" : [\"Sudais\",\"Saad\",\"Saad\",\"Anas\",\"Usman\",\"Sohaib\",\"Huzaifa\"],\n",
    "    \"Age\" : [20,20,22,19,20,20,20]\n",
    "}\n",
    "\n",
    "df : pd.DataFrame = pd.DataFrame(students_data)\n",
    "df"
   ]
  },
  {
   "cell_type": "code",
   "execution_count": 17,
   "metadata": {},
   "outputs": [
    {
     "name": "stdout",
     "output_type": "stream",
     "text": [
      "python\n",
      "HI Jen\n",
      "Jen fav lang is Python\n",
      "HI John\n",
      "HI Sarah\n",
      "Sarah fav lang is C++\n"
     ]
    }
   ],
   "source": [
    "fav_lang : Dict[str,str] = {\n",
    "    \"jen\" : \"python\",\n",
    "    \"john\" : \"java\",\n",
    "    \"sarah\" : \"C++\",\n",
    "    }\n",
    "print(fav_lang[\"jen\"])\n",
    "friends : list[str] = [\"jen\",\"sarah\"]\n",
    "for name in fav_lang.keys():\n",
    "    print(f\"HI {name.title()}\")\n",
    "\n",
    "    if name in friends:\n",
    "        lang : str = fav_lang[name].title()\n",
    "        print(f\"{name.title()} fav lang is {lang}\")"
   ]
  },
  {
   "cell_type": "code",
   "execution_count": 18,
   "metadata": {},
   "outputs": [
    {
     "data": {
      "text/plain": [
       "True"
      ]
     },
     "execution_count": 18,
     "metadata": {},
     "output_type": "execute_result"
    }
   ],
   "source": [
    "\"Sudais\" in \"\"\"My name is Sudais ansari\"\"\""
   ]
  },
  {
   "cell_type": "code",
   "execution_count": 21,
   "metadata": {},
   "outputs": [
    {
     "name": "stdout",
     "output_type": "stream",
     "text": [
      "<class 'dict'>\n",
      "<class 'str'>\n"
     ]
    }
   ],
   "source": [
    "from typing import Dict,Union,Optional\n",
    "import pprint\n",
    "\n",
    "import json\n",
    "\n",
    "Key = Union[int, str]\n",
    "Value = Union[int, str, list, float, tuple, list, dict, set]\n",
    "\n",
    "data : Dict[Key,Value] = {\n",
    "    \"name\":\"Sudais\",\n",
    "    \"fname\":\"Shakeel\",\n",
    "    \"obj\":{1:\"A\",2:\"B\"}\n",
    "}\n",
    "print(type(data))\n",
    "\n",
    "data2 = json.dumps(data, indent=4)\n",
    "print(type(data2)) #converted into json"
   ]
  }
 ],
 "metadata": {
  "kernelspec": {
   "display_name": "base",
   "language": "python",
   "name": "python3"
  },
  "language_info": {
   "codemirror_mode": {
    "name": "ipython",
    "version": 3
   },
   "file_extension": ".py",
   "mimetype": "text/x-python",
   "name": "python",
   "nbconvert_exporter": "python",
   "pygments_lexer": "ipython3",
   "version": "3.11.4"
  }
 },
 "nbformat": 4,
 "nbformat_minor": 2
}
