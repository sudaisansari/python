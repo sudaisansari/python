{
 "cells": [
  {
   "cell_type": "markdown",
   "metadata": {},
   "source": [
    "# OOP \n",
    "* Class\n",
    "    * Method\n",
    "        * first argument must be initial variable(self, this, or anything else)\n",
    "    * Attribute\n",
    "    * Class variable\n",
    "    * Constructor\n",
    "        * def ```__init__```\n",
    "    \n",
    "## Syntax of class\n",
    "```\n",
    "class class_name():\n",
    "    pass\n",
    "```"
   ]
  },
  {
   "cell_type": "code",
   "execution_count": 10,
   "metadata": {},
   "outputs": [],
   "source": [
    "class Teacher(): # can use this instead self\n",
    "    def __init__(self, teacher_id : int, teacher_name : str)->None:# Method/ Constructor\n",
    "        self.id = teacher_id\n",
    "        self.teacher_name : str = teacher_name # convention to make same name variable\n",
    "        self.organization = \"PIAIC\"\n",
    "    \n",
    "    def speak(self, words : str)->None:\n",
    "        print(\"{self.name} is speaking\".format(words))  \n",
    "\n",
    "    def teaching(self, subject : str)->None:\n",
    "        print(f\"{self.teacher_name} is teaching {subject}!\")\n"
   ]
  },
  {
   "cell_type": "code",
   "execution_count": 14,
   "metadata": {},
   "outputs": [
    {
     "name": "stdout",
     "output_type": "stream",
     "text": [
      "1 Sir Zia PIAIC\n",
      "Sir Zia is teaching Generative AI!\n"
     ]
    },
    {
     "data": {
      "text/plain": [
       "['__class__',\n",
       " '__delattr__',\n",
       " '__dict__',\n",
       " '__dir__',\n",
       " '__doc__',\n",
       " '__eq__',\n",
       " '__format__',\n",
       " '__ge__',\n",
       " '__getattribute__',\n",
       " '__getstate__',\n",
       " '__gt__',\n",
       " '__hash__',\n",
       " '__init__',\n",
       " '__init_subclass__',\n",
       " '__le__',\n",
       " '__lt__',\n",
       " '__module__',\n",
       " '__ne__',\n",
       " '__new__',\n",
       " '__reduce__',\n",
       " '__reduce_ex__',\n",
       " '__repr__',\n",
       " '__setattr__',\n",
       " '__sizeof__',\n",
       " '__str__',\n",
       " '__subclasshook__',\n",
       " '__weakref__',\n",
       " 'id',\n",
       " 'organization',\n",
       " 'speak',\n",
       " 'teacher_name',\n",
       " 'teaching']"
      ]
     },
     "execution_count": 14,
     "metadata": {},
     "output_type": "execute_result"
    }
   ],
   "source": [
    "obj1 : Teacher = Teacher(1, \"Sir Zia\")\n",
    "print(obj1.id, obj1.teacher_name, obj1.organization)\n",
    "obj1.teaching(\"Generative AI\")\n",
    "dir(obj1)\n"
   ]
  },
  {
   "cell_type": "code",
   "execution_count": 8,
   "metadata": {},
   "outputs": [],
   "source": [
    "class Teacher(): # can use this instead self\n",
    "    contact : str = \"0300-12345676\" # class variable\n",
    "\n",
    "    def __init__(self, teacher_id : int, teacher_name : str)->None:# Method/ Constructor\n",
    "        self.id = teacher_id\n",
    "        self.teacher_name : str = teacher_name # convention to make same name variable\n",
    "        self.organization = \"PIAIC\"\n",
    "    \n",
    "    def speak(self, words : str)->None:\n",
    "        print(\"{self.name} is speaking\".format(words))  \n",
    "\n",
    "    def teaching(self, subject : str)->None:\n",
    "        print(f\"{self.teacher_name} is teaching {subject}!, contact {Teacher.contact}\")\n"
   ]
  },
  {
   "cell_type": "code",
   "execution_count": 9,
   "metadata": {},
   "outputs": [
    {
     "name": "stdout",
     "output_type": "stream",
     "text": [
      "0300-12345676\n",
      "Sudais is teaching Python!, contact 0300-12345676\n",
      "None\n"
     ]
    }
   ],
   "source": [
    "obj : Teacher = Teacher(23,\"Sudais\")\n",
    "print(obj.contact)\n",
    "print(obj.teaching(\"Python\"))"
   ]
  },
  {
   "cell_type": "markdown",
   "metadata": {},
   "source": [
    "## Four Pillars (Inheritance, Encapsulation, Abstraction, Polymorphism)\n",
    "\n",
    "# Inheritance"
   ]
  },
  {
   "cell_type": "code",
   "execution_count": 21,
   "metadata": {},
   "outputs": [
    {
     "name": "stdout",
     "output_type": "stream",
     "text": [
      "Brown\n",
      "Parents walk for 8 steps\n",
      "Parents speak words Men\n",
      "Child is giving COAL exam\n"
     ]
    }
   ],
   "source": [
    "class Parents():\n",
    "    def __init__(self):\n",
    "        self.eye_color = \"Brown\"\n",
    "        self.hair_color = \"Black\"\n",
    "\n",
    "    def speak(self, words : str):\n",
    "        print(f\"Parents speak words {words}\")\n",
    "\n",
    "    def walk(self, steps : int):\n",
    "        print(f\"Parents walk for {steps} steps\")\n",
    "\n",
    "class Childs(Parents):\n",
    "    def write(self, exam : str):\n",
    "        print(f\"Child is giving {exam} exam\")\n",
    "\n",
    "childs_obj : Childs = Childs()\n",
    "parents_obj : Parents = Parents()\n",
    "\n",
    "print(childs_obj.eye_color)\n",
    "childs_obj.walk(8)\n",
    "parents_obj.speak(\"Men\")\n",
    "childs_obj.write(\"COAL\")"
   ]
  },
  {
   "cell_type": "code",
   "execution_count": null,
   "metadata": {},
   "outputs": [],
   "source": []
  }
 ],
 "metadata": {
  "kernelspec": {
   "display_name": "base",
   "language": "python",
   "name": "python3"
  },
  "language_info": {
   "codemirror_mode": {
    "name": "ipython",
    "version": 3
   },
   "file_extension": ".py",
   "mimetype": "text/x-python",
   "name": "python",
   "nbconvert_exporter": "python",
   "pygments_lexer": "ipython3",
   "version": "3.11.4"
  }
 },
 "nbformat": 4,
 "nbformat_minor": 2
}
