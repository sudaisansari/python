{
 "cells": [
  {
   "cell_type": "markdown",
   "metadata": {},
   "source": [
    "# Pre defined Functions\n",
    "* function declaration, body ,calling\n",
    "* function syntax\n",
    "'''\n",
    "def function_name(param1:type,param2:type,.....)->return_type:\n",
    "    function_body\n",
    "\n",
    "fuction_name(arg1,arg2,......)\n",
    "'''"
   ]
  },
  {
   "cell_type": "code",
   "execution_count": 1,
   "metadata": {},
   "outputs": [
    {
     "name": "stdout",
     "output_type": "stream",
     "text": [
      "Addition of num1 and num2 is\n"
     ]
    },
    {
     "data": {
      "text/plain": [
       "10"
      ]
     },
     "execution_count": 1,
     "metadata": {},
     "output_type": "execute_result"
    }
   ],
   "source": [
    "def add_numbers(num1 : int, num2 : int)->int:\n",
    "    print(\"Addition of num1 and num2 is\")\n",
    "    return num1 + num2\n",
    "add_numbers(6,4)    \n"
   ]
  },
  {
   "cell_type": "markdown",
   "metadata": {},
   "source": [
    "# Lambda functions\n",
    "* without name\n",
    "* one line\n",
    "* syntax\n",
    "lambda param1,param2 : function_body"
   ]
  },
  {
   "cell_type": "code",
   "execution_count": 2,
   "metadata": {},
   "outputs": [
    {
     "data": {
      "text/plain": [
       "11"
      ]
     },
     "execution_count": 2,
     "metadata": {},
     "output_type": "execute_result"
    }
   ],
   "source": [
    "a = lambda num1, num2 : num1 + num2\n",
    "\n",
    "a(5,6)"
   ]
  },
  {
   "cell_type": "code",
   "execution_count": 4,
   "metadata": {},
   "outputs": [
    {
     "data": {
      "text/plain": [
       "[1, 4, 9, 16, 25, 36, 49, 64, 81]"
      ]
     },
     "execution_count": 4,
     "metadata": {},
     "output_type": "execute_result"
    }
   ],
   "source": [
    "data : list[int] = [1,2,3,4,5,6,7,8,9]\n",
    "\n",
    "#override       lambda function  iterate variable data to which on map is applied    \n",
    "data = list(map(lambda x : x**2, data))\n",
    "data"
   ]
  },
  {
   "cell_type": "code",
   "execution_count": 6,
   "metadata": {},
   "outputs": [
    {
     "name": "stdout",
     "output_type": "stream",
     "text": [
      "6\n"
     ]
    }
   ],
   "source": [
    "from typing import Callable\n",
    "\n",
    "#    param return type  func return type\n",
    "add : Callable[[int, int], int] = lambda x, y : x + y\n",
    "result = add(4,2)\n",
    "print(result)"
   ]
  },
  {
   "cell_type": "markdown",
   "metadata": {},
   "source": [
    "Generator Functions\n",
    "* iterate i=on element one by one\n",
    "* stop after each iteration\n",
    "* remember last iterate value\n",
    "* next iterate \n",
    "   * go forward from last iterate value"
   ]
  },
  {
   "cell_type": "code",
   "execution_count": 15,
   "metadata": {},
   "outputs": [
    {
     "name": "stdout",
     "output_type": "stream",
     "text": [
      "[0, 1, 2, 3, 4, 5, 6, 7, 8, 9]\n",
      "<generator object my_range at 0x00000238FE7D6B60>\n"
     ]
    }
   ],
   "source": [
    "def my_range(start : int, end : int, step : int):\n",
    "    for i in range(start,end,step):\n",
    "        yield i # generator funnction \n",
    "\n",
    "a = my_range(0,10,1)\n",
    "print(list(a))\n",
    "print(a)\n",
    "# print(next(a))"
   ]
  },
  {
   "cell_type": "code",
   "execution_count": 20,
   "metadata": {},
   "outputs": [
    {
     "name": "stdout",
     "output_type": "stream",
     "text": [
      "1\n",
      "2\n",
      "3\n"
     ]
    }
   ],
   "source": [
    "from collections.abc import Iterator\n",
    "\n",
    "def my_range(start : int, end : int, step : int=1)->Iterator[int]:\n",
    "    for i in range(start,end+1,step):\n",
    "        yield i\n",
    "\n",
    "a : Iterator[int] = my_range(1,10)\n",
    "print(next(a)) # 1\n",
    "print(next(a)) # 2\n",
    "print(next(a)) # 3"
   ]
  },
  {
   "cell_type": "code",
   "execution_count": 27,
   "metadata": {},
   "outputs": [
    {
     "name": "stdout",
     "output_type": "stream",
     "text": [
      "<class 'tuple'> (1, 4, 3, 5, 4, 6, 7, 4)\n"
     ]
    },
    {
     "data": {
      "text/plain": [
       "34"
      ]
     },
     "execution_count": 27,
     "metadata": {},
     "output_type": "execute_result"
    }
   ],
   "source": [
    "# Unlimited Arguments\n",
    "\n",
    "def abc(*nums : int): # * positional arguments\n",
    "    print(type(nums), nums)\n",
    "    total : int = 0\n",
    "\n",
    "    for n in nums:\n",
    "        total += n\n",
    "    return total\n",
    "\n",
    "abc(1,4,3,5,4,6,7,4,)"
   ]
  },
  {
   "cell_type": "code",
   "execution_count": 29,
   "metadata": {},
   "outputs": [
    {
     "name": "stdout",
     "output_type": "stream",
     "text": [
      "<class 'dict'> {'a': 2, 'b': 4, 'c': 6, 'd': 'S'}\n"
     ]
    }
   ],
   "source": [
    "def xyz(**num): # ** means keyword argument\n",
    "    print(type(num), num)\n",
    "\n",
    "xyz(a=2,b=4,c=6,d=\"S\")"
   ]
  },
  {
   "cell_type": "code",
   "execution_count": 38,
   "metadata": {},
   "outputs": [
    {
     "name": "stdout",
     "output_type": "stream",
     "text": [
      "Before calling the function\n",
      "Hello\n",
      "After calling the function\n"
     ]
    }
   ],
   "source": [
    "from typing import Callable\n",
    "\n",
    "\n",
    "def my_decorator(func : Callable[[], None])->Callable[[], None]:\n",
    "    def wrapper()->None:\n",
    "        print(\"Before calling the function\")\n",
    "        func()\n",
    "        print(\"After calling the function\")\n",
    "    return wrapper\n",
    "# write @my_decorator then func of decorator with your name and anything\n",
    "@my_decorator\n",
    "def say_hello():\n",
    "    print(\"Hello\")\n",
    "\n",
    "say_hello()"
   ]
  },
  {
   "cell_type": "code",
   "execution_count": 39,
   "metadata": {},
   "outputs": [
    {
     "name": "stdout",
     "output_type": "stream",
     "text": [
      "Before calling the function\n",
      "Hello 10\n",
      "After calling the function\n"
     ]
    }
   ],
   "source": [
    "from typing import Callable\n",
    "\n",
    "\n",
    "def my_decorator(func : Callable[[int], None])->Callable[[int], None]:\n",
    "    def wrapper(num : int)->None:\n",
    "        print(\"Before calling the function\")\n",
    "        func(num)\n",
    "        print(\"After calling the function\")\n",
    "    return wrapper\n",
    "# write @my_decorator then func of decorator with your name and anything\n",
    "@my_decorator\n",
    "def say_hello(num : int)->None:\n",
    "    print(f\"Hello {num}\")\n",
    "\n",
    "say_hello(10)"
   ]
  },
  {
   "cell_type": "code",
   "execution_count": 47,
   "metadata": {},
   "outputs": [
    {
     "name": "stdout",
     "output_type": "stream",
     "text": [
      "Factorial of value 4 is 24\n"
     ]
    }
   ],
   "source": [
    "def factorial(val : int)->int:\n",
    "    \"\"\" This is a recursive function\"\"\"\n",
    "    if val == 1:\n",
    "        return val\n",
    "    else:\n",
    "        return val * fatorial(val - 1)\n",
    "num = 4\n",
    "print(\"Factorial of value\", num ,\"is\", factorial(num))"
   ]
  }
 ],
 "metadata": {
  "kernelspec": {
   "display_name": "base",
   "language": "python",
   "name": "python3"
  },
  "language_info": {
   "codemirror_mode": {
    "name": "ipython",
    "version": 3
   },
   "file_extension": ".py",
   "mimetype": "text/x-python",
   "name": "python",
   "nbconvert_exporter": "python",
   "pygments_lexer": "ipython3",
   "version": "3.11.4"
  }
 },
 "nbformat": 4,
 "nbformat_minor": 2
}
