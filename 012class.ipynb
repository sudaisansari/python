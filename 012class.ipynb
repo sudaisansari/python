{
 "cells": [
  {
   "cell_type": "code",
   "execution_count": null,
   "metadata": {},
   "outputs": [],
   "source": [
    "print(\"logic 1\")\n",
    "print(\"logic 2\")\n",
    "\n",
    "try:\n",
    "    print(\"abc\")\n",
    "    print(5/0)# error\n",
    "    print(xyz)\n",
    "except(ZeroDivisionError):\n",
    "    print(\"Zero Division Error\")\n",
    "except:\n",
    "    print(\"Something is wrong\")\n",
    "finally:\n",
    "    print(\"Done\")\n",
    "\n",
    "print(\"logic 3\")\n",
    "print(\"logic 4\")"
   ]
  },
  {
   "cell_type": "code",
   "execution_count": 2,
   "metadata": {},
   "outputs": [
    {
     "name": "stdout",
     "output_type": "stream",
     "text": [
      "Something is wrong\n"
     ]
    }
   ],
   "source": [
    "try:\n",
    "    print(ac)\n",
    "except Exception as e:\n",
    "    print(\"Something is wrong\")"
   ]
  },
  {
   "cell_type": "code",
   "execution_count": 3,
   "metadata": {},
   "outputs": [
    {
     "ename": "ValueError",
     "evalue": "Age must be between 18 and 60",
     "output_type": "error",
     "traceback": [
      "\u001b[1;31m---------------------------------------------------------------------------\u001b[0m",
      "\u001b[1;31mValueError\u001b[0m                                Traceback (most recent call last)",
      "\u001b[1;32md:\\PIAIC ONLINE SESSIONS\\Python with Sir Qasim and Zia\\class_1_onsite\\012class.ipynb Cell 3\u001b[0m line \u001b[0;36m1\n\u001b[0;32m      <a href='vscode-notebook-cell:/d%3A/PIAIC%20ONLINE%20SESSIONS/Python%20with%20Sir%20Qasim%20and%20Zia/class_1_onsite/012class.ipynb#W2sZmlsZQ%3D%3D?line=8'>9</a>\u001b[0m \u001b[39mclass\u001b[39;00m \u001b[39mValueError\u001b[39;00m(\u001b[39mException\u001b[39;00m):\n\u001b[0;32m     <a href='vscode-notebook-cell:/d%3A/PIAIC%20ONLINE%20SESSIONS/Python%20with%20Sir%20Qasim%20and%20Zia/class_1_onsite/012class.ipynb#W2sZmlsZQ%3D%3D?line=9'>10</a>\u001b[0m     \u001b[39mpass\u001b[39;00m\n\u001b[1;32m---> <a href='vscode-notebook-cell:/d%3A/PIAIC%20ONLINE%20SESSIONS/Python%20with%20Sir%20Qasim%20and%20Zia/class_1_onsite/012class.ipynb#W2sZmlsZQ%3D%3D?line=10'>11</a>\u001b[0m std1 \u001b[39m=\u001b[39m StudentCard(\u001b[39m2\u001b[39m,\u001b[39m\"\u001b[39m\u001b[39mSd\u001b[39m\u001b[39m\"\u001b[39m,\u001b[39m1\u001b[39m)\n\u001b[0;32m     <a href='vscode-notebook-cell:/d%3A/PIAIC%20ONLINE%20SESSIONS/Python%20with%20Sir%20Qasim%20and%20Zia/class_1_onsite/012class.ipynb#W2sZmlsZQ%3D%3D?line=11'>12</a>\u001b[0m \u001b[39mprint\u001b[39m(std1\u001b[39m.\u001b[39mname,std1\u001b[39m.\u001b[39mrollno,std1\u001b[39m.\u001b[39mage)\n",
      "\u001b[1;32md:\\PIAIC ONLINE SESSIONS\\Python with Sir Qasim and Zia\\class_1_onsite\\012class.ipynb Cell 3\u001b[0m line \u001b[0;36m4\n\u001b[0;32m      <a href='vscode-notebook-cell:/d%3A/PIAIC%20ONLINE%20SESSIONS/Python%20with%20Sir%20Qasim%20and%20Zia/class_1_onsite/012class.ipynb#W2sZmlsZQ%3D%3D?line=1'>2</a>\u001b[0m \u001b[39mdef\u001b[39;00m \u001b[39m__init__\u001b[39m(\u001b[39mself\u001b[39m,rollno: \u001b[39mint\u001b[39m,name:\u001b[39mstr\u001b[39m,age:\u001b[39mint\u001b[39m)\u001b[39m-\u001b[39m\u001b[39m>\u001b[39m\u001b[39mNone\u001b[39;00m:\n\u001b[0;32m      <a href='vscode-notebook-cell:/d%3A/PIAIC%20ONLINE%20SESSIONS/Python%20with%20Sir%20Qasim%20and%20Zia/class_1_onsite/012class.ipynb#W2sZmlsZQ%3D%3D?line=2'>3</a>\u001b[0m     \u001b[39mif\u001b[39;00m age \u001b[39m<\u001b[39m \u001b[39m18\u001b[39m \u001b[39mor\u001b[39;00m age \u001b[39m>\u001b[39m \u001b[39m60\u001b[39m:\n\u001b[1;32m----> <a href='vscode-notebook-cell:/d%3A/PIAIC%20ONLINE%20SESSIONS/Python%20with%20Sir%20Qasim%20and%20Zia/class_1_onsite/012class.ipynb#W2sZmlsZQ%3D%3D?line=3'>4</a>\u001b[0m         \u001b[39mraise\u001b[39;00m \u001b[39mValueError\u001b[39;00m(\u001b[39m\"\u001b[39m\u001b[39mAge must be between 18 and 60\u001b[39m\u001b[39m\"\u001b[39m)\n\u001b[0;32m      <a href='vscode-notebook-cell:/d%3A/PIAIC%20ONLINE%20SESSIONS/Python%20with%20Sir%20Qasim%20and%20Zia/class_1_onsite/012class.ipynb#W2sZmlsZQ%3D%3D?line=4'>5</a>\u001b[0m         \u001b[39mself\u001b[39m\u001b[39m.\u001b[39mroll_number \u001b[39m=\u001b[39m rollno\n\u001b[0;32m      <a href='vscode-notebook-cell:/d%3A/PIAIC%20ONLINE%20SESSIONS/Python%20with%20Sir%20Qasim%20and%20Zia/class_1_onsite/012class.ipynb#W2sZmlsZQ%3D%3D?line=5'>6</a>\u001b[0m         \u001b[39mself\u001b[39m\u001b[39m.\u001b[39mstudent_name \u001b[39m=\u001b[39m name\n",
      "\u001b[1;31mValueError\u001b[0m: Age must be between 18 and 60"
     ]
    }
   ],
   "source": [
    "class StudentCard():\n",
    "    def __init__(self,rollno: int,name:str,age:int)->None:\n",
    "        if age < 18 or age > 60:\n",
    "            raise ValueError(\"Age must be between 18 and 60\")\n",
    "            self.roll_number = rollno\n",
    "            self.student_name = name\n",
    "            self.age = age\n",
    "\n",
    "class ValueError(Exception):\n",
    "    pass\n",
    "std1 = StudentCard(2,\"Sd\",1)\n",
    "print(std1.name,std1.rollno,std1.age)"
   ]
  },
  {
   "cell_type": "markdown",
   "metadata": {},
   "source": [
    "# File handling\n",
    "\n",
    "Also Look at Repo\n",
    "https://github.com/panaverse/learn-modern-python/blob/main/12_class(Error_and_File_Handling/class12.ipynb"
   ]
  },
  {
   "cell_type": "code",
   "execution_count": 16,
   "metadata": {},
   "outputs": [
    {
     "name": "stdout",
     "output_type": "stream",
     "text": [
      "My name is Sudais\n",
      "I am a student of computer science \n",
      "line3\n",
      "line4\n",
      "line5\n",
      "line6\n"
     ]
    },
    {
     "data": {
      "text/plain": [
       "['_CHUNK_SIZE',\n",
       " '_checkClosed',\n",
       " '_checkReadable',\n",
       " '_checkSeekable',\n",
       " '_checkWritable',\n",
       " '_finalizing',\n",
       " 'buffer',\n",
       " 'close',\n",
       " 'closed',\n",
       " 'detach',\n",
       " 'encoding',\n",
       " 'errors',\n",
       " 'fileno',\n",
       " 'flush',\n",
       " 'isatty',\n",
       " 'line_buffering',\n",
       " 'mode',\n",
       " 'name',\n",
       " 'newlines',\n",
       " 'read',\n",
       " 'readable',\n",
       " 'readline',\n",
       " 'readlines',\n",
       " 'reconfigure',\n",
       " 'seek',\n",
       " 'seekable',\n",
       " 'tell',\n",
       " 'truncate',\n",
       " 'writable',\n",
       " 'write',\n",
       " 'write_through',\n",
       " 'writelines']"
      ]
     },
     "execution_count": 16,
     "metadata": {},
     "output_type": "execute_result"
    }
   ],
   "source": [
    "from typing import TextIO\n",
    "\n",
    "data : TextIO = open(\"abc.txt\")\n",
    "print(data.read())\n",
    "data.close() \n",
    "\n",
    "[i for i in dir(data) if \"__\" not in i]"
   ]
  },
  {
   "cell_type": "code",
   "execution_count": 13,
   "metadata": {},
   "outputs": [
    {
     "name": "stdout",
     "output_type": "stream",
     "text": [
      "<class '_io.TextIOWrapper'>\n",
      "My name is Sudais\n",
      "\n",
      "Ok\n"
     ]
    }
   ],
   "source": [
    "with open(\"abc.txt\") as file:\n",
    "    print(type(file))\n",
    "    print(file.readline()) #print(file.readline(10))\n",
    "    #print(file.readlines())\n",
    "    #print(file.read())\n",
    "\n",
    "print(\"Ok\")"
   ]
  },
  {
   "cell_type": "code",
   "execution_count": 17,
   "metadata": {},
   "outputs": [
    {
     "name": "stdout",
     "output_type": "stream",
     "text": [
      "<class '_io.TextIOWrapper'>\n",
      "My name is Sudais\n",
      "\n",
      "Ok\n"
     ]
    }
   ],
   "source": [
    "with open(\"abc.txt\", \"r+\") as file:\n",
    "    print(type(file))\n",
    "    print(file.readline())\n",
    "    file.write(\"Pakistan\")\n",
    "\n",
    "print(\"Ok\")"
   ]
  },
  {
   "cell_type": "code",
   "execution_count": 18,
   "metadata": {},
   "outputs": [
    {
     "name": "stdout",
     "output_type": "stream",
     "text": [
      "My name is Sudais\n",
      "I am a student of computer science \n",
      "line3\n",
      "line4\n",
      "line5\n",
      "line6Pakistan\n",
      "After  My name is Sudais\n",
      "I am a student of computer science \n",
      "line3\n",
      "line4\n",
      "line5\n",
      "line6PakistanPakistan\n",
      "Ok\n"
     ]
    }
   ],
   "source": [
    "with open(\"abc.txt\", \"r+\") as file:\n",
    "    print(file.read())\n",
    "    file.write(\"Pakistan\")\n",
    "    file.seek(0)\n",
    "    print(\"After \",file.read())\n",
    "    \n",
    "print(\"Ok\")"
   ]
  },
  {
   "cell_type": "code",
   "execution_count": 22,
   "metadata": {},
   "outputs": [
    {
     "data": {
      "text/html": [
       "<div>\n",
       "<style scoped>\n",
       "    .dataframe tbody tr th:only-of-type {\n",
       "        vertical-align: middle;\n",
       "    }\n",
       "\n",
       "    .dataframe tbody tr th {\n",
       "        vertical-align: top;\n",
       "    }\n",
       "\n",
       "    .dataframe thead th {\n",
       "        text-align: right;\n",
       "    }\n",
       "</style>\n",
       "<table border=\"1\" class=\"dataframe\">\n",
       "  <thead>\n",
       "    <tr style=\"text-align: right;\">\n",
       "      <th></th>\n",
       "      <th>Name</th>\n",
       "      <th>Education</th>\n",
       "    </tr>\n",
       "  </thead>\n",
       "  <tbody>\n",
       "    <tr>\n",
       "      <th>0</th>\n",
       "      <td>Sudais</td>\n",
       "      <td>BSCS</td>\n",
       "    </tr>\n",
       "  </tbody>\n",
       "</table>\n",
       "</div>"
      ],
      "text/plain": [
       "     Name Education\n",
       "0  Sudais      BSCS"
      ]
     },
     "execution_count": 22,
     "metadata": {},
     "output_type": "execute_result"
    }
   ],
   "source": [
    "import pandas as pd\n",
    "\n",
    "df : pd.DataFrame = pd.read_csv(\"./xyz.csv\")\n",
    "# for excel file read_excel\n",
    "\n",
    "df"
   ]
  },
  {
   "cell_type": "code",
   "execution_count": 23,
   "metadata": {},
   "outputs": [
    {
     "name": "stdout",
     "output_type": "stream",
     "text": [
      "Requirement already satisfied: matplotlib in c:\\users\\sudais ansari\\anaconda3\\lib\\site-packages (3.7.1)\n",
      "Requirement already satisfied: contourpy>=1.0.1 in c:\\users\\sudais ansari\\anaconda3\\lib\\site-packages (from matplotlib) (1.0.5)\n",
      "Requirement already satisfied: cycler>=0.10 in c:\\users\\sudais ansari\\anaconda3\\lib\\site-packages (from matplotlib) (0.11.0)\n",
      "Requirement already satisfied: fonttools>=4.22.0 in c:\\users\\sudais ansari\\anaconda3\\lib\\site-packages (from matplotlib) (4.25.0)\n",
      "Requirement already satisfied: kiwisolver>=1.0.1 in c:\\users\\sudais ansari\\anaconda3\\lib\\site-packages (from matplotlib) (1.4.4)\n",
      "Requirement already satisfied: numpy>=1.20 in c:\\users\\sudais ansari\\anaconda3\\lib\\site-packages (from matplotlib) (1.24.3)\n",
      "Requirement already satisfied: packaging>=20.0 in c:\\users\\sudais ansari\\anaconda3\\lib\\site-packages (from matplotlib) (23.0)\n",
      "Requirement already satisfied: pillow>=6.2.0 in c:\\users\\sudais ansari\\anaconda3\\lib\\site-packages (from matplotlib) (9.5.0)\n",
      "Requirement already satisfied: pyparsing>=2.3.1 in c:\\users\\sudais ansari\\anaconda3\\lib\\site-packages (from matplotlib) (3.0.9)\n",
      "Requirement already satisfied: python-dateutil>=2.7 in c:\\users\\sudais ansari\\anaconda3\\lib\\site-packages (from matplotlib) (2.8.2)\n",
      "Requirement already satisfied: six>=1.5 in c:\\users\\sudais ansari\\anaconda3\\lib\\site-packages (from python-dateutil>=2.7->matplotlib) (1.16.0)\n"
     ]
    }
   ],
   "source": [
    "!pip install matplotlib"
   ]
  },
  {
   "cell_type": "code",
   "execution_count": 26,
   "metadata": {},
   "outputs": [
    {
     "name": "stdout",
     "output_type": "stream",
     "text": [
      "[[[0. 0. 0. 0.]\n",
      "  [0. 0. 0. 0.]\n",
      "  [0. 0. 0. 0.]\n",
      "  ...\n",
      "  [0. 0. 0. 0.]\n",
      "  [0. 0. 0. 0.]\n",
      "  [0. 0. 0. 0.]]\n",
      "\n",
      " [[0. 0. 0. 0.]\n",
      "  [0. 0. 0. 0.]\n",
      "  [0. 0. 0. 0.]\n",
      "  ...\n",
      "  [0. 0. 0. 0.]\n",
      "  [0. 0. 0. 0.]\n",
      "  [0. 0. 0. 0.]]\n",
      "\n",
      " [[0. 0. 0. 0.]\n",
      "  [0. 0. 0. 0.]\n",
      "  [0. 0. 0. 0.]\n",
      "  ...\n",
      "  [0. 0. 0. 0.]\n",
      "  [0. 0. 0. 0.]\n",
      "  [0. 0. 0. 0.]]\n",
      "\n",
      " ...\n",
      "\n",
      " [[0. 0. 0. 0.]\n",
      "  [0. 0. 0. 0.]\n",
      "  [0. 0. 0. 0.]\n",
      "  ...\n",
      "  [0. 0. 0. 0.]\n",
      "  [0. 0. 0. 0.]\n",
      "  [0. 0. 0. 0.]]\n",
      "\n",
      " [[0. 0. 0. 0.]\n",
      "  [0. 0. 0. 0.]\n",
      "  [0. 0. 0. 0.]\n",
      "  ...\n",
      "  [0. 0. 0. 0.]\n",
      "  [0. 0. 0. 0.]\n",
      "  [0. 0. 0. 0.]]\n",
      "\n",
      " [[0. 0. 0. 0.]\n",
      "  [0. 0. 0. 0.]\n",
      "  [0. 0. 0. 0.]\n",
      "  ...\n",
      "  [0. 0. 0. 0.]\n",
      "  [0. 0. 0. 0.]\n",
      "  [0. 0. 0. 0.]]]\n"
     ]
    },
    {
     "data": {
      "text/plain": [
       "<matplotlib.image.AxesImage at 0x27af88c7e90>"
      ]
     },
     "execution_count": 26,
     "metadata": {},
     "output_type": "execute_result"
    },
    {
     "data": {
      "image/png": "[encoded data removed]",
      "text/plain": [
       "<Figure size 640x480 with 1 Axes>"
      ]
     },
     "metadata": {},
     "output_type": "display_data"
    }
   ],
   "source": [
    "import matplotlib.pyplot as plt\n",
    "import matplotlib.image as mpimg\n",
    "\n",
    "img = mpimg.imread(\"img1.png\")\n",
    "print(img)\n",
    "plt.imshow(img)"
   ]
  },
  {
   "cell_type": "code",
   "execution_count": 31,
   "metadata": {},
   "outputs": [
    {
     "ename": "NameError",
     "evalue": "name 'page' is not defined",
     "output_type": "error",
     "traceback": [
      "\u001b[1;31m---------------------------------------------------------------------------\u001b[0m",
      "\u001b[1;31mNameError\u001b[0m                                 Traceback (most recent call last)",
      "\u001b[1;32md:\\PIAIC ONLINE SESSIONS\\Python with Sir Qasim and Zia\\class_1_onsite\\012class.ipynb Cell 12\u001b[0m line \u001b[0;36m1\n\u001b[0;32m      <a href='vscode-notebook-cell:/d%3A/PIAIC%20ONLINE%20SESSIONS/Python%20with%20Sir%20Qasim%20and%20Zia/class_1_onsite/012class.ipynb#X15sZmlsZQ%3D%3D?line=6'>7</a>\u001b[0m         text_content : List[\u001b[39mstr\u001b[39m] \u001b[39m=\u001b[39m [page\u001b[39m.\u001b[39mextract_text() \u001b[39mfor\u001b[39;00m pages \u001b[39min\u001b[39;00m reader\u001b[39m.\u001b[39mpages]\n\u001b[0;32m      <a href='vscode-notebook-cell:/d%3A/PIAIC%20ONLINE%20SESSIONS/Python%20with%20Sir%20Qasim%20and%20Zia/class_1_onsite/012class.ipynb#X15sZmlsZQ%3D%3D?line=7'>8</a>\u001b[0m         \u001b[39mreturn\u001b[39;00m text_content\n\u001b[1;32m---> <a href='vscode-notebook-cell:/d%3A/PIAIC%20ONLINE%20SESSIONS/Python%20with%20Sir%20Qasim%20and%20Zia/class_1_onsite/012class.ipynb#X15sZmlsZQ%3D%3D?line=9'>10</a>\u001b[0m pages \u001b[39m=\u001b[39m read_pdf(\u001b[39m\"\u001b[39m\u001b[39m./resume.pdf\u001b[39m\u001b[39m\"\u001b[39m)\n\u001b[0;32m     <a href='vscode-notebook-cell:/d%3A/PIAIC%20ONLINE%20SESSIONS/Python%20with%20Sir%20Qasim%20and%20Zia/class_1_onsite/012class.ipynb#X15sZmlsZQ%3D%3D?line=10'>11</a>\u001b[0m \u001b[39mprint\u001b[39m(pages)\n",
      "\u001b[1;32md:\\PIAIC ONLINE SESSIONS\\Python with Sir Qasim and Zia\\class_1_onsite\\012class.ipynb Cell 12\u001b[0m line \u001b[0;36m7\n\u001b[0;32m      <a href='vscode-notebook-cell:/d%3A/PIAIC%20ONLINE%20SESSIONS/Python%20with%20Sir%20Qasim%20and%20Zia/class_1_onsite/012class.ipynb#X15sZmlsZQ%3D%3D?line=4'>5</a>\u001b[0m \u001b[39mwith\u001b[39;00m \u001b[39mopen\u001b[39m(file_path, \u001b[39m\"\u001b[39m\u001b[39mrb\u001b[39m\u001b[39m\"\u001b[39m) \u001b[39mas\u001b[39;00m file:\n\u001b[0;32m      <a href='vscode-notebook-cell:/d%3A/PIAIC%20ONLINE%20SESSIONS/Python%20with%20Sir%20Qasim%20and%20Zia/class_1_onsite/012class.ipynb#X15sZmlsZQ%3D%3D?line=5'>6</a>\u001b[0m     reader : PyPDF2\u001b[39m.\u001b[39mPdfReader \u001b[39m=\u001b[39m PyPDF2\u001b[39m.\u001b[39mPdfReader(file)\n\u001b[1;32m----> <a href='vscode-notebook-cell:/d%3A/PIAIC%20ONLINE%20SESSIONS/Python%20with%20Sir%20Qasim%20and%20Zia/class_1_onsite/012class.ipynb#X15sZmlsZQ%3D%3D?line=6'>7</a>\u001b[0m     text_content : List[\u001b[39mstr\u001b[39m] \u001b[39m=\u001b[39m [page\u001b[39m.\u001b[39mextract_text() \u001b[39mfor\u001b[39;00m pages \u001b[39min\u001b[39;00m reader\u001b[39m.\u001b[39mpages]\n\u001b[0;32m      <a href='vscode-notebook-cell:/d%3A/PIAIC%20ONLINE%20SESSIONS/Python%20with%20Sir%20Qasim%20and%20Zia/class_1_onsite/012class.ipynb#X15sZmlsZQ%3D%3D?line=7'>8</a>\u001b[0m     \u001b[39mreturn\u001b[39;00m text_content\n",
      "\u001b[1;32md:\\PIAIC ONLINE SESSIONS\\Python with Sir Qasim and Zia\\class_1_onsite\\012class.ipynb Cell 12\u001b[0m line \u001b[0;36m7\n\u001b[0;32m      <a href='vscode-notebook-cell:/d%3A/PIAIC%20ONLINE%20SESSIONS/Python%20with%20Sir%20Qasim%20and%20Zia/class_1_onsite/012class.ipynb#X15sZmlsZQ%3D%3D?line=4'>5</a>\u001b[0m \u001b[39mwith\u001b[39;00m \u001b[39mopen\u001b[39m(file_path, \u001b[39m\"\u001b[39m\u001b[39mrb\u001b[39m\u001b[39m\"\u001b[39m) \u001b[39mas\u001b[39;00m file:\n\u001b[0;32m      <a href='vscode-notebook-cell:/d%3A/PIAIC%20ONLINE%20SESSIONS/Python%20with%20Sir%20Qasim%20and%20Zia/class_1_onsite/012class.ipynb#X15sZmlsZQ%3D%3D?line=5'>6</a>\u001b[0m     reader : PyPDF2\u001b[39m.\u001b[39mPdfReader \u001b[39m=\u001b[39m PyPDF2\u001b[39m.\u001b[39mPdfReader(file)\n\u001b[1;32m----> <a href='vscode-notebook-cell:/d%3A/PIAIC%20ONLINE%20SESSIONS/Python%20with%20Sir%20Qasim%20and%20Zia/class_1_onsite/012class.ipynb#X15sZmlsZQ%3D%3D?line=6'>7</a>\u001b[0m     text_content : List[\u001b[39mstr\u001b[39m] \u001b[39m=\u001b[39m [page\u001b[39m.\u001b[39mextract_text() \u001b[39mfor\u001b[39;00m pages \u001b[39min\u001b[39;00m reader\u001b[39m.\u001b[39mpages]\n\u001b[0;32m      <a href='vscode-notebook-cell:/d%3A/PIAIC%20ONLINE%20SESSIONS/Python%20with%20Sir%20Qasim%20and%20Zia/class_1_onsite/012class.ipynb#X15sZmlsZQ%3D%3D?line=7'>8</a>\u001b[0m     \u001b[39mreturn\u001b[39;00m text_content\n",
      "\u001b[1;31mNameError\u001b[0m: name 'page' is not defined"
     ]
    }
   ],
   "source": [
    "from typing import List\n",
    "import PyPDF2\n",
    "\n",
    "def read_pdf(file_path: str)->List[str]:\n",
    "    with open(file_path, \"rb\") as file:\n",
    "        reader : PyPDF2.PdfReader = PyPDF2.PdfReader(file)\n",
    "        text_content : List[str] = [page.extract_text() for pages in reader.pages]\n",
    "        return text_content\n",
    "\n",
    "pages = read_pdf(\"./resume.pdf\")\n",
    "print(pages)"
   ]
  },
  {
   "cell_type": "code",
   "execution_count": 28,
   "metadata": {},
   "outputs": [
    {
     "name": "stdout",
     "output_type": "stream",
     "text": [
      "Collecting PyPDF2\n",
      "  Downloading pypdf2-3.0.1-py3-none-any.whl (232 kB)\n",
      "     ---------------------------------------- 0.0/232.6 kB ? eta -:--:--\n",
      "     - -------------------------------------- 10.2/232.6 kB ? eta -:--:--\n",
      "     - -------------------------------------- 10.2/232.6 kB ? eta -:--:--\n",
      "     - -------------------------------------- 10.2/232.6 kB ? eta -:--:--\n",
      "     - -------------------------------------- 10.2/232.6 kB ? eta -:--:--\n",
      "     - -------------------------------------- 10.2/232.6 kB ? eta -:--:--\n",
      "     - -------------------------------------- 10.2/232.6 kB ? eta -:--:--\n",
      "     - -------------------------------------- 10.2/232.6 kB ? eta -:--:--\n",
      "     - -------------------------------------- 10.2/232.6 kB ? eta -:--:--\n",
      "     - -------------------------------------- 10.2/232.6 kB ? eta -:--:--\n",
      "     - -------------------------------------- 10.2/232.6 kB ? eta -:--:--\n",
      "     - -------------------------------------- 10.2/232.6 kB ? eta -:--:--\n",
      "     - -------------------------------------- 10.2/232.6 kB ? eta -:--:--\n",
      "     - -------------------------------------- 10.2/232.6 kB ? eta -:--:--\n",
      "     ------ ------------------------------- 41.0/232.6 kB 46.8 kB/s eta 0:00:05\n",
      "     ----------------- ------------------ 112.6/232.6 kB 142.4 kB/s eta 0:00:01\n",
      "     ---------------------- ------------- 143.4/232.6 kB 173.8 kB/s eta 0:00:01\n",
      "     ---------------------- ------------- 143.4/232.6 kB 173.8 kB/s eta 0:00:01\n",
      "     ---------------------- ------------- 143.4/232.6 kB 173.8 kB/s eta 0:00:01\n",
      "     ---------------------- ------------- 143.4/232.6 kB 173.8 kB/s eta 0:00:01\n",
      "     ---------------------- ------------- 143.4/232.6 kB 173.8 kB/s eta 0:00:01\n",
      "     ---------------------- ------------- 143.4/232.6 kB 173.8 kB/s eta 0:00:01\n",
      "     ---------------------- ------------- 143.4/232.6 kB 173.8 kB/s eta 0:00:01\n",
      "     ------------------------------ ----- 194.6/232.6 kB 159.4 kB/s eta 0:00:01\n",
      "     ------------------------------- ---- 204.8/232.6 kB 163.8 kB/s eta 0:00:01\n",
      "     ---------------------------------- - 225.3/232.6 kB 174.1 kB/s eta 0:00:01\n",
      "     ---------------------------------- - 225.3/232.6 kB 174.1 kB/s eta 0:00:01\n",
      "     ------------------------------------ 232.6/232.6 kB 165.4 kB/s eta 0:00:00\n",
      "Installing collected packages: PyPDF2\n",
      "Successfully installed PyPDF2-3.0.1\n"
     ]
    }
   ],
   "source": [
    "!pip install PyPDF2\n"
   ]
  },
  {
   "cell_type": "code",
   "execution_count": 3,
   "metadata": {},
   "outputs": [
    {
     "data": {
      "image/png": "[encoded data removed]",
      "text/plain": [
       "<Figure size 640x480 with 1 Axes>"
      ]
     },
     "metadata": {},
     "output_type": "display_data"
    }
   ],
   "source": [
    "import matplotlib.pyplot as plt\n",
    "import numpy as np\n",
    "import wave\n",
    "import sys\n",
    "\n",
    "audio_file = wave.open(\"./file_wav.wav\", \"rb\")\n",
    "\n",
    "signals = audio_file.readframes(-1)\n",
    "signals = np.frombuffer(signals, dtype=np.int16)\n",
    "\n",
    "plt.figure(1)\n",
    "plt.title(\"Signal Waveform\")\n",
    "plt.plot(signals)\n",
    "plt.show()\n"
   ]
  }
 ],
 "metadata": {
  "kernelspec": {
   "display_name": "base",
   "language": "python",
   "name": "python3"
  },
  "language_info": {
   "codemirror_mode": {
    "name": "ipython",
    "version": 3
   },
   "file_extension": ".py",
   "mimetype": "text/x-python",
   "name": "python",
   "nbconvert_exporter": "python",
   "pygments_lexer": "ipython3",
   "version": "3.11.4"
  }
 },
 "nbformat": 4,
 "nbformat_minor": 2
}
